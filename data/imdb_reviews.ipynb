{
 "cells": [
  {
   "cell_type": "code",
   "execution_count": 28,
   "metadata": {},
   "outputs": [],
   "source": [
    "import pandas as pd\n",
    "from pathlib import Path"
   ]
  },
  {
   "cell_type": "code",
   "execution_count": 29,
   "metadata": {},
   "outputs": [],
   "source": [
    "def choose_rating(rating):\n",
    "    if rating >= 7:\n",
    "        return 1 \n",
    "    elif rating <= 4:\n",
    "        return 0\n",
    "    else:\n",
    "        return -1"
   ]
  },
  {
   "cell_type": "code",
   "execution_count": 30,
   "metadata": {},
   "outputs": [],
   "source": [
    "dfs = {}\n",
    "for imdb_csv in Path(\"./imdb_reviews\").iterdir():\n",
    "    dfs[imdb_csv.stem.split(\"_\")[-1]] = pd.read_csv(imdb_csv)"
   ]
  },
  {
   "cell_type": "code",
   "execution_count": 41,
   "metadata": {},
   "outputs": [
    {
     "name": "stdout",
     "output_type": "stream",
     "text": [
      "2018 (54666, 4)\n",
      " 1    29494\n",
      " 0    16428\n",
      "-1     8744\n",
      "Name: rating_label, dtype: int64\n",
      "45922\n"
     ]
    },
    {
     "name": "stderr",
     "output_type": "stream",
     "text": [
      "/Users/danilkononykhin/Anaconda/anaconda3/lib/python3.7/site-packages/ipykernel_launcher.py:7: SettingWithCopyWarning: \n",
      "A value is trying to be set on a copy of a slice from a DataFrame.\n",
      "Try using .loc[row_indexer,col_indexer] = value instead\n",
      "\n",
      "See the caveats in the documentation: http://pandas.pydata.org/pandas-docs/stable/user_guide/indexing.html#returning-a-view-versus-a-copy\n",
      "  import sys\n"
     ]
    },
    {
     "name": "stdout",
     "output_type": "stream",
     "text": [
      "(30980, 5)\n",
      "2019 (59260, 4)\n",
      " 1    32150\n",
      " 0    17879\n",
      "-1     9231\n",
      "Name: rating_label, dtype: int64\n",
      "50029\n",
      "(33111, 5)\n",
      "2020 (48307, 4)\n",
      " 1    25760\n",
      " 0    15077\n",
      "-1     7470\n",
      "Name: rating_label, dtype: int64\n",
      "40837\n",
      "(26857, 5)\n",
      "2012 (29690, 4)\n",
      " 1    16164\n",
      " 0     8176\n",
      "-1     5350\n",
      "Name: rating_label, dtype: int64\n",
      "24340\n",
      "(17560, 5)\n",
      "2013 (33814, 4)\n",
      " 1    18307\n",
      " 0     9303\n",
      "-1     6204\n",
      "Name: rating_label, dtype: int64\n",
      "27610\n",
      "(20165, 5)\n",
      "2017 (3684, 4)\n",
      " 1    1988\n",
      " 0    1031\n",
      "-1     665\n",
      "Name: rating_label, dtype: int64\n",
      "3019\n",
      "(2006, 5)\n",
      "2016 (40934, 4)\n",
      " 1    21798\n",
      " 0    11872\n",
      "-1     7264\n",
      "Name: rating_label, dtype: int64\n",
      "33670\n",
      "(23956, 5)\n",
      "2014 (36223, 4)\n",
      " 1    19668\n",
      " 0     9958\n",
      "-1     6597\n",
      "Name: rating_label, dtype: int64\n",
      "29626\n",
      "(21266, 5)\n",
      "2015 (37439, 4)\n",
      " 1    19872\n",
      " 0    10803\n",
      "-1     6764\n",
      "Name: rating_label, dtype: int64\n",
      "30675\n",
      "(22009, 5)\n"
     ]
    }
   ],
   "source": [
    "final_dfs = []\n",
    "for k, df in dfs.items():\n",
    "    print(k, df.shape)\n",
    "    df['rating_label'] = df['rating'].apply(lambda x: choose_rating(x))\n",
    "    print(df['rating_label'].value_counts())\n",
    "    df = df[df['rating_label'] != -1]\n",
    "    df['year'] = int(k)\n",
    "    print(len(df))\n",
    "    filtered_df = []\n",
    "    for movie, movie_reviews in df.groupby('movie_title'):\n",
    "        filtered_df.append(movie_reviews.sample(n=min(len(movie_reviews), 10)))\n",
    "    df = pd.concat(filtered_df)\n",
    "    print(df.shape)\n",
    "    final_dfs.append(df)"
   ]
  },
  {
   "cell_type": "code",
   "execution_count": 42,
   "metadata": {},
   "outputs": [],
   "source": [
    "final_df = pd.concat(final_dfs)"
   ]
  },
  {
   "cell_type": "code",
   "execution_count": 43,
   "metadata": {},
   "outputs": [],
   "source": [
    "final_df.reset_index(inplace=True, drop=True)"
   ]
  },
  {
   "cell_type": "code",
   "execution_count": 44,
   "metadata": {},
   "outputs": [
    {
     "data": {
      "text/html": [
       "<div>\n",
       "<style scoped>\n",
       "    .dataframe tbody tr th:only-of-type {\n",
       "        vertical-align: middle;\n",
       "    }\n",
       "\n",
       "    .dataframe tbody tr th {\n",
       "        vertical-align: top;\n",
       "    }\n",
       "\n",
       "    .dataframe thead th {\n",
       "        text-align: right;\n",
       "    }\n",
       "</style>\n",
       "<table border=\"1\" class=\"dataframe\">\n",
       "  <thead>\n",
       "    <tr style=\"text-align: right;\">\n",
       "      <th></th>\n",
       "      <th>movie_title</th>\n",
       "      <th>review</th>\n",
       "      <th>rating</th>\n",
       "      <th>rating_label</th>\n",
       "      <th>year</th>\n",
       "    </tr>\n",
       "  </thead>\n",
       "  <tbody>\n",
       "    <tr>\n",
       "      <td>0</td>\n",
       "      <td>#Roxy</td>\n",
       "      <td>An well made movie, geered towards teens but e...</td>\n",
       "      <td>10</td>\n",
       "      <td>1</td>\n",
       "      <td>2018</td>\n",
       "    </tr>\n",
       "    <tr>\n",
       "      <td>1</td>\n",
       "      <td>#Roxy</td>\n",
       "      <td>Imagine every \"movie made for teens by 45 year...</td>\n",
       "      <td>2</td>\n",
       "      <td>0</td>\n",
       "      <td>2018</td>\n",
       "    </tr>\n",
       "    <tr>\n",
       "      <td>2</td>\n",
       "      <td>#Roxy</td>\n",
       "      <td>This was so super cute, with some great one-li...</td>\n",
       "      <td>10</td>\n",
       "      <td>1</td>\n",
       "      <td>2018</td>\n",
       "    </tr>\n",
       "    <tr>\n",
       "      <td>3</td>\n",
       "      <td>#Roxy</td>\n",
       "      <td>There is almost nothing that makes this film s...</td>\n",
       "      <td>7</td>\n",
       "      <td>1</td>\n",
       "      <td>2018</td>\n",
       "    </tr>\n",
       "    <tr>\n",
       "      <td>4</td>\n",
       "      <td>#Roxy</td>\n",
       "      <td>Cryano Debergerac is one of my all time favori...</td>\n",
       "      <td>8</td>\n",
       "      <td>1</td>\n",
       "      <td>2018</td>\n",
       "    </tr>\n",
       "    <tr>\n",
       "      <td>...</td>\n",
       "      <td>...</td>\n",
       "      <td>...</td>\n",
       "      <td>...</td>\n",
       "      <td>...</td>\n",
       "      <td>...</td>\n",
       "    </tr>\n",
       "    <tr>\n",
       "      <td>197905</td>\n",
       "      <td>Üç Harfliler 2: Hablis</td>\n",
       "      <td>What a waste of time. Incredibly disappointed ...</td>\n",
       "      <td>1</td>\n",
       "      <td>0</td>\n",
       "      <td>2015</td>\n",
       "    </tr>\n",
       "    <tr>\n",
       "      <td>197906</td>\n",
       "      <td>Þrestir</td>\n",
       "      <td>A incredible film with brilliantly executed sh...</td>\n",
       "      <td>9</td>\n",
       "      <td>1</td>\n",
       "      <td>2015</td>\n",
       "    </tr>\n",
       "    <tr>\n",
       "      <td>197907</td>\n",
       "      <td>Þrestir</td>\n",
       "      <td>Sparrows is an Icelandic coming of age movie a...</td>\n",
       "      <td>7</td>\n",
       "      <td>1</td>\n",
       "      <td>2015</td>\n",
       "    </tr>\n",
       "    <tr>\n",
       "      <td>197908</td>\n",
       "      <td>Þrestir</td>\n",
       "      <td>Note, my 3/10 stars is mostly based on how muc...</td>\n",
       "      <td>3</td>\n",
       "      <td>0</td>\n",
       "      <td>2015</td>\n",
       "    </tr>\n",
       "    <tr>\n",
       "      <td>197909</td>\n",
       "      <td>Þrestir</td>\n",
       "      <td>Sparrows feels like the quintessential coming-...</td>\n",
       "      <td>4</td>\n",
       "      <td>0</td>\n",
       "      <td>2015</td>\n",
       "    </tr>\n",
       "  </tbody>\n",
       "</table>\n",
       "<p>197910 rows × 5 columns</p>\n",
       "</div>"
      ],
      "text/plain": [
       "                   movie_title  \\\n",
       "0                        #Roxy   \n",
       "1                        #Roxy   \n",
       "2                        #Roxy   \n",
       "3                        #Roxy   \n",
       "4                        #Roxy   \n",
       "...                        ...   \n",
       "197905  Üç Harfliler 2: Hablis   \n",
       "197906                 Þrestir   \n",
       "197907                 Þrestir   \n",
       "197908                 Þrestir   \n",
       "197909                 Þrestir   \n",
       "\n",
       "                                                   review  rating  \\\n",
       "0       An well made movie, geered towards teens but e...      10   \n",
       "1       Imagine every \"movie made for teens by 45 year...       2   \n",
       "2       This was so super cute, with some great one-li...      10   \n",
       "3       There is almost nothing that makes this film s...       7   \n",
       "4       Cryano Debergerac is one of my all time favori...       8   \n",
       "...                                                   ...     ...   \n",
       "197905  What a waste of time. Incredibly disappointed ...       1   \n",
       "197906  A incredible film with brilliantly executed sh...       9   \n",
       "197907  Sparrows is an Icelandic coming of age movie a...       7   \n",
       "197908  Note, my 3/10 stars is mostly based on how muc...       3   \n",
       "197909  Sparrows feels like the quintessential coming-...       4   \n",
       "\n",
       "        rating_label  year  \n",
       "0                  1  2018  \n",
       "1                  0  2018  \n",
       "2                  1  2018  \n",
       "3                  1  2018  \n",
       "4                  1  2018  \n",
       "...              ...   ...  \n",
       "197905             0  2015  \n",
       "197906             1  2015  \n",
       "197907             1  2015  \n",
       "197908             0  2015  \n",
       "197909             0  2015  \n",
       "\n",
       "[197910 rows x 5 columns]"
      ]
     },
     "execution_count": 44,
     "metadata": {},
     "output_type": "execute_result"
    }
   ],
   "source": [
    "final_df"
   ]
  },
  {
   "cell_type": "code",
   "execution_count": 45,
   "metadata": {},
   "outputs": [
    {
     "data": {
      "text/plain": [
       "2019    33111\n",
       "2018    30980\n",
       "2020    26857\n",
       "2016    23956\n",
       "2015    22009\n",
       "2014    21266\n",
       "2013    20165\n",
       "2012    17560\n",
       "2017     2006\n",
       "Name: year, dtype: int64"
      ]
     },
     "execution_count": 45,
     "metadata": {},
     "output_type": "execute_result"
    }
   ],
   "source": [
    "final_df['year'].value_counts()"
   ]
  },
  {
   "cell_type": "code",
   "execution_count": 46,
   "metadata": {},
   "outputs": [
    {
     "data": {
      "text/plain": [
       "197910"
      ]
     },
     "execution_count": 46,
     "metadata": {},
     "output_type": "execute_result"
    }
   ],
   "source": [
    "len(final_df)"
   ]
  },
  {
   "cell_type": "code",
   "execution_count": 37,
   "metadata": {},
   "outputs": [],
   "source": [
    "final_df.rename(columns={'rating_label': 'label', 'review': 'text'}, inplace=True)"
   ]
  },
  {
   "cell_type": "code",
   "execution_count": 39,
   "metadata": {},
   "outputs": [],
   "source": [
    "# final_df"
   ]
  },
  {
   "cell_type": "code",
   "execution_count": 40,
   "metadata": {},
   "outputs": [],
   "source": [
    "final_df.to_csv(\"imdb_new_reviews.csv\", index=False)"
   ]
  },
  {
   "cell_type": "code",
   "execution_count": null,
   "metadata": {},
   "outputs": [],
   "source": []
  }
 ],
 "metadata": {
  "kernelspec": {
   "display_name": "cv2_env",
   "language": "python",
   "name": "python3"
  },
  "language_info": {
   "codemirror_mode": {
    "name": "ipython",
    "version": 3
   },
   "file_extension": ".py",
   "mimetype": "text/x-python",
   "name": "python",
   "nbconvert_exporter": "python",
   "pygments_lexer": "ipython3",
   "version": "3.7.4"
  }
 },
 "nbformat": 4,
 "nbformat_minor": 2
}
